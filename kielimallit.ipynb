{
 "cells": [
  {
   "cell_type": "markdown",
   "metadata": {},
   "source": [
    "# Kielimallit\n",
    "\n",
    "* Mallintaa tilastollisesti luonnollista kieltä\n",
    "* Luonnollinen kieli = ihmisten kommunikointiin käytetty kieli\n",
    "* On olemassa tietyt säännöt, miten kieli toimii, mutta ei vaatimusta, että niitä noudatetaan tarkasti\n",
    "    \n",
    "    \n",
    "* Vrt. esim. ohjelmointikieliin\n",
    "    * tarkat säännöt mitä tulee noudattaa\n",
    "    * mahdollista jäsentää tarkasti (compiler)\n",
    "        \n"
   ]
  },
  {
   "cell_type": "markdown",
   "metadata": {},
   "source": [
    "### Kielimalli vastaa kahteen kysymykseen:\n",
    "\n",
    "**1) Mikä on todennäköisin seuraava sana, kun edelliset sanat on annettu?**\n",
    "\n",
    "* Ajoin eilen ____\n",
    "    * autolla, banaanilla ?\n",
    "    \n",
    "* Banaanikärpänen on pieni ____\n",
    "    * kärpäslaji, pieni, ajaa ?\n",
    "    \n",
    "Käytössä esim. ennakoivassa tekstinsyötössä.\n",
    "    \n",
    "    \n",
    "    \n",
    "**2) Mikä on annetun tekstipätkän esiintymistodennäköisyys?**\n",
    "    * Hän kertoi minua noin kirja.\n",
    "    * Hän kertoi minua kirjasta.\n",
    "    * Hän kertoi minulle noin kirja.\n",
    "    * Hän kertoi minulle kirjasta.\n",
    "    \n",
    "Käytössä esim. oikoluvussa tunnistamassa todennäköisiä kirjoitusvirheitä.\n",
    "\n"
   ]
  },
  {
   "cell_type": "markdown",
   "metadata": {},
   "source": [
    "### Miten yksinkertainen kielimalli toimii?\n",
    "\n",
    "* Tiedetään, että lause alkaa *\"Pöydällä on\"*\n",
    "* Millä todennäköisyydellä seuraava sana on *\"kattila\"*?\n",
    "* P(kattila | Pöydällä on)\n",
    "\n",
    "\n",
    "* Koko tekstipätkän todennäköisyys lasketaan ketjusäännön mukaan\n",
    "\n",
    "\n",
    "* Sanojen ja sanaketjujen esiintymistodennäköisyyksiä voidaan arvioida suuresta tekstikokoelmasta\n",
    "    * Yksinkertaisimmillaan lasketaan kuinka monta kertaa tietyt sanat ja sanaketjut esiintyvät kokoelmassa\n",
    "    * count(Pöydällä on kattila) / count(Pöydällä on)\n",
    "    \n",
    "* Yleensä mallit huomioivat vain 2-3 edellistä sanaa\n",
    "    * P(kattila | Meidän isolla pöydällä on) == P(kattila | pöydällä on)\n",
    "    * *kolme pyörää ____*\n",
    "    * *[Tuolloin tehtaan 20 työntekijää valmistivat] kolme pyörää ____*\n",
    "    \n",
    "    \n",
    "* Modernit kielimallit paljon parempia!\n",
    "    "
   ]
  },
  {
   "cell_type": "code",
   "execution_count": 83,
   "metadata": {},
   "outputs": [
    {
     "name": "stdout",
     "output_type": "stream",
     "text": [
      "Number of tokens: 1001558\n",
      "['HPK', 'käänsi', 'lopulta', 'voiton', 'itselleen', 'Kahdeksas', 'perättäinen', 'voitto', 'ja', '2', 'sarjapistettä', '.', 'Siinä', 'HPK:n', 'saldo', 'naisten', 'lentopalloliigan', 'kamppailusta', 'Liiga', '-']\n",
      "\n",
      "Todennäköisyys P(enemmän|Se on): 0.004149377593360996\n",
      "Todennäköisyys P(vähän|Se on): 0.012448132780082987\n",
      "Todennäköisyys P(ollut|Se on): 0.02074688796680498\n",
      "\n",
      "Todennäköisyys P(euroa|miljoonaa): 0.6441281138790036\n",
      "Todennäköisyys P(dollaria|miljoonaa): 0.017793594306049824\n",
      "Todennäköisyys P(kirjaa|miljoonaa): 0.0\n"
     ]
    }
   ],
   "source": [
    "with open(\"finnish_corpus.txt\", \"rt\", encoding=\"utf-8\") as f:\n",
    "    text = \" \".join(f.readlines()).split()\n",
    "print(\"Number of tokens:\",len(text))\n",
    "print(text[:20])\n",
    "print()\n",
    "\n",
    "from nltk import ngrams\n",
    "from collections import Counter\n",
    "\n",
    "all_ngrams = Counter(list(ngrams(text, 1)) + list(ngrams(text, 2)) + list(ngrams(text, 3)))\n",
    "\n",
    "\n",
    "def print_prob(ngram):\n",
    "    prob = all_ngrams[ngram] / all_ngrams[ngram[:-1]]\n",
    "    print(\"Todennäköisyys P({x}|{y}):\".format(x=ngram[-1], y=\" \".join(list(ngram[:-1]))), prob)\n",
    "\n",
    "    \n",
    "print_prob((\"Se\", \"on\", \"enemmän\"))\n",
    "print_prob((\"Se\", \"on\", \"vähän\"))\n",
    "print_prob((\"Se\", \"on\", \"ollut\"))\n",
    "print()\n",
    "print_prob((\"miljoonaa\", \"euroa\"))\n",
    "print_prob((\"miljoonaa\", \"dollaria\"))\n",
    "print_prob((\"miljoonaa\", \"kirjaa\"))"
   ]
  },
  {
   "cell_type": "markdown",
   "metadata": {},
   "source": [
    "### Tekstin generointi\n",
    "\n",
    "* Tämä kielimalli kulkee aina vasemmalta oikealle\n",
    "    * Ennustaa uusia sanoja edellisten perusteella\n",
    "* Voidaan käyttää tekstin generoimiseen!\n",
    "* Annetaan lyhyt alku (seed) --> generoi todennäköisin seuraava sana --> toista\n"
   ]
  },
  {
   "cell_type": "code",
   "execution_count": 55,
   "metadata": {
    "scrolled": true
   },
   "outputs": [
    {
     "name": "stdout",
     "output_type": "stream",
     "text": [
      "Se\n",
      "on\n",
      "ollut\n",
      ".\n"
     ]
    }
   ],
   "source": [
    "bigram_dict = defaultdict(lambda: defaultdict(int))\n",
    "for (word1, word2), count in bigrams.items():\n",
    "    bigram_dict[word1][word2] = count\n",
    "\n",
    "def next_word(word):\n",
    "    return sorted(bigram_dict[word].items(), key=lambda x:x[1], reverse=True)[0][0]\n",
    "\n",
    "def print_sentence(start):\n",
    "    print(start)\n",
    "    while start != '.':\n",
    "        start = next_word(start)\n",
    "        print(start)\n",
    "        \n",
    "print_sentence('Se')"
   ]
  },
  {
   "cell_type": "markdown",
   "metadata": {},
   "source": [
    "### Modernit kielimallit\n",
    "\n",
    "* Perustuu ennustamiseen (koneoppimiseen) sanojen/sanapätkien laskemisen sijaan\n",
    "* Ottaa huomioon koko kontekstin, ei vain 2-3 edellistä sanaa\n",
    "* Voi ottaa huomioon myös miten lause jatkuu jos tiedossa\n",
    "    * Cloze-testi tyylinen\n",
    "\n",
    "\n",
    "* Annetaan tekstipätkä, jossa on aukko, ja yritetään ennustaa alkuperäinen sana\n",
    "    * *\"Onnellisuus kun ____ kasvata kansantaloutta.\"*\n",
    "    \n",
    "Kielimalli, joka on **liian vaarallinen julkaistavaksi**: https://talktotransformer.com/\n",
    "\n",
    "Harjoitus: http://dl.turkunlp.org/.jmnybl/kielimalliharjoitus.pdf"
   ]
  },
  {
   "cell_type": "code",
   "execution_count": null,
   "metadata": {},
   "outputs": [],
   "source": []
  }
 ],
 "metadata": {
  "kernelspec": {
   "display_name": "Python 3",
   "language": "python",
   "name": "python3"
  },
  "language_info": {
   "codemirror_mode": {
    "name": "ipython",
    "version": 3
   },
   "file_extension": ".py",
   "mimetype": "text/x-python",
   "name": "python",
   "nbconvert_exporter": "python",
   "pygments_lexer": "ipython3",
   "version": "3.6.9"
  }
 },
 "nbformat": 4,
 "nbformat_minor": 2
}
